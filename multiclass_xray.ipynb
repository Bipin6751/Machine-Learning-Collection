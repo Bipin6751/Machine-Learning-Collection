{
  "nbformat": 4,
  "nbformat_minor": 0,
  "metadata": {
    "colab": {
      "name": "multiclass_xray.ipynb",
      "private_outputs": true,
      "provenance": [],
      "include_colab_link": true
    },
    "kernelspec": {
      "name": "python3",
      "display_name": "Python 3"
    },
    "language_info": {
      "name": "python"
    },
    "accelerator": "GPU"
  },
  "cells": [
    {
      "cell_type": "markdown",
      "metadata": {
        "id": "view-in-github",
        "colab_type": "text"
      },
      "source": [
        "<a href=\"https://colab.research.google.com/github/Bipin6751/Machine-Learning-Collection/blob/master/multiclass_xray.ipynb\" target=\"_parent\"><img src=\"https://colab.research.google.com/assets/colab-badge.svg\" alt=\"Open In Colab\"/></a>"
      ]
    },
    {
      "cell_type": "code",
      "source": [
        "# !gdown --id 1V-kAH0GnzHjwG7cfIkOlJSAH2_Q_um5e"
      ],
      "metadata": {
        "id": "Y1HJ6FfFJ-UR"
      },
      "execution_count": null,
      "outputs": []
    },
    {
      "cell_type": "code",
      "source": [
        "# !unzip chestxray.zip"
      ],
      "metadata": {
        "id": "zoKeSMDHKK6A"
      },
      "execution_count": null,
      "outputs": []
    },
    {
      "cell_type": "code",
      "execution_count": null,
      "metadata": {
        "id": "rfzMTGdmvpvB"
      },
      "outputs": [],
      "source": [
        "import numpy as np\n",
        "import matplotlib.pyplot as plt\n",
        "import tensorflow as tf\n",
        "from tensorflow import keras\n",
        "from tensorflow.keras import layers\n",
        "from tensorflow.keras import models\n",
        "from tensorflow.keras.preprocessing import image"
      ]
    },
    {
      "cell_type": "code",
      "source": [
        "train_path = '/content/chestxray/train'\n",
        "test_path = '/content/chestxray/test'"
      ],
      "metadata": {
        "id": "eocMHazDeQBi"
      },
      "execution_count": null,
      "outputs": []
    },
    {
      "cell_type": "code",
      "source": [
        "train_datagen = image.ImageDataGenerator(\n",
        "    rescale = 1./255,\n",
        "    rotation_range = 0.01,\n",
        "    shear_range = 0.2,\n",
        "    zoom_range = 0.2,\n",
        "    horizontal_flip = True,\n",
        ")\n",
        "\n",
        "test_datagen =  image.ImageDataGenerator(\n",
        "    rescale = 1./255,\n",
        ")"
      ],
      "metadata": {
        "id": "YZ3i16Qh0wrI"
      },
      "execution_count": null,
      "outputs": []
    },
    {
      "cell_type": "code",
      "source": [
        "train_generator = train_datagen.flow_from_directory(\n",
        "    train_path,\n",
        "    target_size = (256, 256),\n",
        "    batch_size = 32,\n",
        "    class_mode = 'sparse',\n",
        ")"
      ],
      "metadata": {
        "id": "QR_sbp3S0xgt"
      },
      "execution_count": null,
      "outputs": []
    },
    {
      "cell_type": "code",
      "source": [
        "train_generator.class_indices"
      ],
      "metadata": {
        "id": "KS3cOjDBc80P"
      },
      "execution_count": null,
      "outputs": []
    },
    {
      "cell_type": "code",
      "source": [
        "test_datagerator = test_datagen.flow_from_directory(\n",
        "        test_path,\n",
        "        target_size = (256, 256),\n",
        "        batch_size = 32,\n",
        "        class_mode = 'sparse'\n",
        ")"
      ],
      "metadata": {
        "id": "woDV1Fdoe58t"
      },
      "execution_count": null,
      "outputs": []
    },
    {
      "cell_type": "code",
      "source": [
        "# actual = []\n",
        "# for i in range(test_datagerator.__len__()):\n",
        "#   for j in test_datagerator[i][1]:\n",
        "#     actual.append(j)"
      ],
      "metadata": {
        "id": "dXotiJuNrRcb"
      },
      "execution_count": null,
      "outputs": []
    },
    {
      "cell_type": "code",
      "source": [
        "# len(actual)"
      ],
      "metadata": {
        "id": "v1MfepDrusdm"
      },
      "execution_count": null,
      "outputs": []
    },
    {
      "cell_type": "code",
      "source": [
        "model = keras.Sequential([\n",
        "                          layers.Conv2D(32, kernel_size=(3,3), activation='relu', input_shape=(256,256,3)),\n",
        "                          layers.Conv2D(32, (3, 3), activation='relu'),\n",
        "                          layers.MaxPooling2D(pool_size=(2,2)),\n",
        "\n",
        "                          layers.Conv2D(64, (3,3), activation='relu'),\n",
        "                          layers.MaxPooling2D(pool_size=(2,2)),\n",
        "\n",
        "                          layers.Conv2D(128, (3,3), activation='relu'),\n",
        "                          layers.MaxPooling2D(pool_size=(2,2)),\n",
        "\n",
        "                          layers.Conv2D(256, (3,3), activation='relu'),\n",
        "                          layers.MaxPooling2D(pool_size=(2,2)),\n",
        "                          layers.Dropout(0.25),\n",
        "\n",
        "                          layers.Flatten(),\n",
        "                          layers.Dense(64, activation='relu'),\n",
        "                          layers.Dropout(0.25),\n",
        "\n",
        "                          layers.Dense(3, activation='sigmoid'),\n",
        "\n",
        "])"
      ],
      "metadata": {
        "id": "-c5L-W1gfRLp"
      },
      "execution_count": null,
      "outputs": []
    },
    {
      "cell_type": "code",
      "source": [
        "model.summary()"
      ],
      "metadata": {
        "id": "xc2vD1MVfvZd"
      },
      "execution_count": null,
      "outputs": []
    },
    {
      "cell_type": "code",
      "source": [
        "model.compile(\n",
        "    optimizer=keras.optimizers.Adam(),\n",
        "    loss=[keras.losses.SparseCategoricalCrossentropy(from_logits=False)],\n",
        "    metrics=['accuracy'],\n",
        ")"
      ],
      "metadata": {
        "id": "BIKvF8xEf4z-"
      },
      "execution_count": null,
      "outputs": []
    },
    {
      "cell_type": "code",
      "source": [
        "mc = keras.callbacks.ModelCheckpoint(filepath=\"./best_model.h5\",\n",
        "                     monitor=\"accuracy\",\n",
        "                     verbose=1,\n",
        "                     save_best_only=True)\n",
        "es = keras.callbacks.EarlyStopping(monitor=\"accuracy\",\n",
        "                   min_delta=0.01,\n",
        "                   patience = 100,\n",
        "                   verbose=1)\n",
        "cb = [mc, es]"
      ],
      "metadata": {
        "id": "xqCcKHGMioha"
      },
      "execution_count": null,
      "outputs": []
    },
    {
      "cell_type": "code",
      "source": [
        "his = model.fit(\n",
        "    train_generator,\n",
        "    steps_per_epoch = 16,\n",
        "    epochs = 100,\n",
        "    callbacks = cb,\n",
        ")"
      ],
      "metadata": {
        "id": "npjHJPADkcU9"
      },
      "execution_count": null,
      "outputs": []
    },
    {
      "cell_type": "code",
      "source": [
        "model = models.load_model(\"/content/best_model.h5\")"
      ],
      "metadata": {
        "id": "5F2BrfOseb4_"
      },
      "execution_count": null,
      "outputs": []
    },
    {
      "cell_type": "code",
      "source": [
        "model.evaluate(train_generator)"
      ],
      "metadata": {
        "id": "bP6UJmQhfUOi"
      },
      "execution_count": null,
      "outputs": []
    },
    {
      "cell_type": "code",
      "source": [
        "model.evaluate(test_datagerator)"
      ],
      "metadata": {
        "id": "UxBulqjvfhUV"
      },
      "execution_count": null,
      "outputs": []
    },
    {
      "cell_type": "code",
      "source": [
        "h = his.history\n",
        "h.keys()"
      ],
      "metadata": {
        "id": "WZYU0vWugoA9"
      },
      "execution_count": null,
      "outputs": []
    },
    {
      "cell_type": "code",
      "source": [
        "plt.plot(h['loss'])\n",
        "plt.plot(h['accuracy'], 'go--', c='red')\n",
        "plt.title(\"Loss vs Accuracy\")\n",
        "plt.show()"
      ],
      "metadata": {
        "id": "1PqscibXhb5j"
      },
      "execution_count": null,
      "outputs": []
    },
    {
      "cell_type": "code",
      "source": [
        "y_predicted = model.predict(test_datagerator)\n",
        "y_predicted[0]"
      ],
      "metadata": {
        "id": "VSFOZgGQhj4y"
      },
      "execution_count": null,
      "outputs": []
    },
    {
      "cell_type": "code",
      "source": [
        "y_predicted.shape"
      ],
      "metadata": {
        "id": "DUlds8jdsjGL"
      },
      "execution_count": null,
      "outputs": []
    },
    {
      "cell_type": "code",
      "source": [
        "np.argmax(y_predicted[0])"
      ],
      "metadata": {
        "id": "ImU_D8gNifGV"
      },
      "execution_count": null,
      "outputs": []
    },
    {
      "cell_type": "code",
      "source": [
        "y_predicted_labels = [np.argmax(i) for i in y_predicted]"
      ],
      "metadata": {
        "id": "IC5JsOf3u24M"
      },
      "execution_count": null,
      "outputs": []
    },
    {
      "cell_type": "code",
      "source": [
        "y_predicted_labels[0]"
      ],
      "metadata": {
        "id": "pWQ6tveKvEvr"
      },
      "execution_count": null,
      "outputs": []
    },
    {
      "cell_type": "code",
      "source": [
        "len(y_predicted_labels)"
      ],
      "metadata": {
        "id": "p87ob-qAvIbM"
      },
      "execution_count": null,
      "outputs": []
    },
    {
      "cell_type": "code",
      "source": [
        "test_datagerator.class_indices"
      ],
      "metadata": {
        "id": "vN9Mz6EYilA8"
      },
      "execution_count": null,
      "outputs": []
    },
    {
      "cell_type": "code",
      "source": [
        "y_actual = []\n",
        "y_test = []"
      ],
      "metadata": {
        "id": "3E0eZyMFqU_Q"
      },
      "execution_count": null,
      "outputs": []
    },
    {
      "cell_type": "code",
      "source": [
        "import os"
      ],
      "metadata": {
        "id": "Z5GZLerAqk7u"
      },
      "execution_count": null,
      "outputs": []
    },
    {
      "cell_type": "code",
      "source": [
        "for i in os.listdir('/content/chestxray/test/COVID'):\n",
        "  img = image.load_img('/content/chestxray/test/COVID/'+ i, target_size=(256, 256))\n",
        "  img = image.img_to_array(img)/255\n",
        "  img = np.expand_dims(img, axis = 0)\n",
        "  p = model.predict(img)\n",
        "  if np.argmax(p) == 0:\n",
        "    p = 0\n",
        "  elif np.argmax(p) == 1:\n",
        "    p = 1\n",
        "  else:\n",
        "    p = 2\n",
        "  y_test.append(p)\n",
        "  y_actual.append(0)"
      ],
      "metadata": {
        "id": "pFbk1aNMqoyz"
      },
      "execution_count": null,
      "outputs": []
    },
    {
      "cell_type": "code",
      "source": [
        "len(y_test)"
      ],
      "metadata": {
        "id": "kb7mJtKGxlWG"
      },
      "execution_count": null,
      "outputs": []
    },
    {
      "cell_type": "code",
      "source": [
        "for i in os.listdir('/content/chestxray/test/NORMAL'):\n",
        "  img = image.load_img('/content/chestxray/test/NORMAL/'+ i, target_size=(256, 256))\n",
        "  img = image.img_to_array(img)/255\n",
        "  img = np.expand_dims(img, axis = 0)\n",
        "  p = model.predict(img)\n",
        "  if np.argmax(p) == 0:\n",
        "    p = 0\n",
        "  elif np.argmax(p) == 1:\n",
        "    p = 1\n",
        "  else:\n",
        "    p = 2\n",
        "  y_test.append(p)\n",
        "  y_actual.append(1)"
      ],
      "metadata": {
        "id": "hqy20SV5wMH-"
      },
      "execution_count": null,
      "outputs": []
    },
    {
      "cell_type": "code",
      "source": [
        "len(y_test)"
      ],
      "metadata": {
        "id": "X0UhKXH8x2th"
      },
      "execution_count": null,
      "outputs": []
    },
    {
      "cell_type": "code",
      "source": [
        "for i in os.listdir('/content/chestxray/test/PNEUMONIA'):\n",
        "  img = image.load_img('/content/chestxray/test/PNEUMONIA/'+ i, target_size=(256, 256))\n",
        "  img = image.img_to_array(img)/255\n",
        "  img = np.expand_dims(img, axis = 0)\n",
        "  p = model.predict(img)\n",
        "  if np.argmax(p) == 0:\n",
        "    p = 0\n",
        "  elif np.argmax(p) == 1:\n",
        "    p = 1\n",
        "  else:\n",
        "    p = 2\n",
        "  y_test.append(p)\n",
        "  y_actual.append(2)"
      ],
      "metadata": {
        "id": "dNCUaSJuw-KF"
      },
      "execution_count": null,
      "outputs": []
    },
    {
      "cell_type": "code",
      "source": [
        "len(y_test)"
      ],
      "metadata": {
        "id": "G7tLY1k05MGG"
      },
      "execution_count": null,
      "outputs": []
    },
    {
      "cell_type": "code",
      "source": [
        "from sklearn.metrics import confusion_matrix, classification_report"
      ],
      "metadata": {
        "id": "fh8l1vHIvgky"
      },
      "execution_count": null,
      "outputs": []
    },
    {
      "cell_type": "code",
      "source": [
        "cm = confusion_matrix(y_actual, y_test)"
      ],
      "metadata": {
        "id": "ARtt30Myvjtg"
      },
      "execution_count": null,
      "outputs": []
    },
    {
      "cell_type": "code",
      "source": [
        "import seaborn as sn\n",
        "plt.figure(figsize=(10,7))\n",
        "sn.heatmap(cm, annot=True, fmt='d')\n",
        "plt.xlabel('predicted')\n",
        "plt.ylabel('Truth')"
      ],
      "metadata": {
        "id": "ZzOHivX7vPmk"
      },
      "execution_count": null,
      "outputs": []
    },
    {
      "cell_type": "code",
      "source": [
        "print(classification_report(y_actual, y_test))"
      ],
      "metadata": {
        "id": "KlDvBe7qvuJn"
      },
      "execution_count": null,
      "outputs": []
    },
    {
      "cell_type": "code",
      "source": [
        "def get_img_arr(img_path):\n",
        "  path = img_path\n",
        "  img = image.load_img(path, target_size=(256, 256))\n",
        "  img = image.img_to_array(img)/255\n",
        "  img = np.expand_dims(img, axis = 0)\n",
        "  return img"
      ],
      "metadata": {
        "id": "Hs4ZFIa60MSf"
      },
      "execution_count": null,
      "outputs": []
    },
    {
      "cell_type": "code",
      "source": [
        "def make_gracam_heatmap(img_arr, model, last_conv_layer_name, pred_index=None):\n",
        "  grad_model = tf.keras.models.Model(\n",
        "      [model.input], [model.get_layer(last_conv_layer_name).output, model.output]\n",
        "  )\n",
        "\n",
        "  with tf.GradientTape() as tape:\n",
        "    last_conv_layer_output, preds = grad_model(img_arr)\n",
        "\n",
        "    if pred_index is None:\n",
        "      pred_index = tf.argmax(preds[0])\n",
        "\n",
        "    class_channel = preds[:, pred_index]\n",
        "\n",
        "  grads = tape.gradient(class_channel, last_conv_layer_output)\n",
        "\n",
        "  pooles_grads = tf.reduce_mean(grads, axis=(0,1,2))\n",
        "\n",
        "  last_conv_layer_output = last_conv_layer_output[0]\n",
        "\n",
        "  heatmap = last_conv_layer_output @ pooles_grads[..., tf.newaxis]\n",
        "  heatmap = tf.squeeze(heatmap)\n",
        "  heatmap = tf.maximum(heatmap, 0)/tf.math.reduce_max(heatmap)\n",
        "  return heatmap.numpy()"
      ],
      "metadata": {
        "id": "F8hcM9pL0v0y"
      },
      "execution_count": null,
      "outputs": []
    },
    {
      "cell_type": "code",
      "source": [
        "import matplotlib.cm as cm\n",
        "from IPython.display import Image, display"
      ],
      "metadata": {
        "id": "BRXFyNGs1lkP"
      },
      "execution_count": null,
      "outputs": []
    },
    {
      "cell_type": "code",
      "source": [
        "def save_and_display_gradcam(img_path, heatmap, cam_path = \"cam.jpg\", alpha=0.4):\n",
        "  img = image.img_to_array(image.load_img(img_path))\n",
        "  heatmap = np.uint8(255*heatmap)\n",
        "  jet = cm.get_cmap(\"jet\")\n",
        "  jet_colors = jet(np.arange(256))[:, :3]\n",
        "  jet_heatmap = jet_colors[heatmap]\n",
        "\n",
        "  jet_heatmap = keras.preprocessing.image.array_to_img(jet_heatmap)\n",
        "  jet_heatmap = jet_heatmap.resize((img.shape[1], img.shape[0]))\n",
        "  jet_heatmap = keras.preprocessing.image.img_to_array(jet_heatmap)\n",
        "\n",
        "  superimposed_img = jet_heatmap * alpha + img\n",
        "  superimposed_img = keras.preprocessing.image.array_to_img(superimposed_img)\n",
        "\n",
        "  superimposed_img.save(cam_path)\n",
        "\n",
        "  display(Image(cam_path))"
      ],
      "metadata": {
        "id": "hQzopDJ71u5g"
      },
      "execution_count": null,
      "outputs": []
    },
    {
      "cell_type": "code",
      "source": [
        "def image_prediction_and_visualization(path, last_conv_layer_name=\"conv2d_4\", model=model):\n",
        "  img_array = get_img_arr(path)\n",
        "\n",
        "  heatmap = make_gracam_heatmap(img_array, model, last_conv_layer_name )\n",
        "\n",
        "  plt.title(\"The heat map of the image is\")\n",
        "  plt.imshow(heatmap)\n",
        "  plt.show()\n",
        "\n",
        "  pred =  np.argmax(model.predict(img_array))\n",
        "  print()\n",
        "  print()\n",
        "  print()\n",
        "\n",
        "  if pred == 0:\n",
        "    print(\"The patient is COVID infected\")\n",
        "  elif pred == 1:\n",
        "    print(\"The patient is NORMAL\")\n",
        "  else:\n",
        "    print(\"The patient is PNEUMONIA infected\")\n",
        "\n",
        "  print()\n",
        "  print()\n",
        "  print()\n",
        "\n",
        "  print(\"Image with heatmap representing region on interest\")\n",
        "\n",
        "  save_and_display_gradcam(path, heatmap)\n",
        "  print()\n",
        "  print(\"The original input image\")\n",
        "  print()\n",
        "\n",
        "  a = plt.imread(path)\n",
        "  plt.imshow(a, cmap='gray')\n",
        "  plt.title(\"original image\")\n",
        "  plt.show()"
      ],
      "metadata": {
        "id": "exd8cXrE1yoc"
      },
      "execution_count": null,
      "outputs": []
    },
    {
      "cell_type": "code",
      "source": [
        "path = \"/content/chestxray/test/COVID/COVID-1035.png\"\n",
        "image_prediction_and_visualization(path)"
      ],
      "metadata": {
        "id": "CU57J1j22jSJ"
      },
      "execution_count": null,
      "outputs": []
    },
    {
      "cell_type": "code",
      "source": [
        "path = \"/content/chestxray/test/NORMAL/IM-0075-0001.jpeg\"\n",
        "image_prediction_and_visualization(path)"
      ],
      "metadata": {
        "id": "-SKlSBP224jI"
      },
      "execution_count": null,
      "outputs": []
    },
    {
      "cell_type": "code",
      "source": [
        "path = \"/content/chestxray/test/PNEUMONIA/person1023_virus_1714.jpeg\"\n",
        "image_prediction_and_visualization(path)"
      ],
      "metadata": {
        "id": "WbStY62d3PfR"
      },
      "execution_count": null,
      "outputs": []
    },
    {
      "cell_type": "code",
      "source": [
        ""
      ],
      "metadata": {
        "id": "eq4-ANta3U-w"
      },
      "execution_count": null,
      "outputs": []
    }
  ]
}